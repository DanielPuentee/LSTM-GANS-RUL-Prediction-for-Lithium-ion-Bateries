{
 "cells": [
  {
   "cell_type": "markdown",
   "metadata": {},
   "source": [
    "<center> \n",
    "<img src=\"https://upload.wikimedia.org/wikipedia/commons/5/5c/Logo_Mondragon_Unibertsitatea.png\" width=\"150\" height=\"100\" float =\"left\">\n",
    "\n",
    "\n",
    "---\n",
    "<h3>Jon Amelibia, Iker Cumplido, Aitor Hernandez, Daniel Puente and Iñigo Ugarte"
   ]
  },
  {
   "cell_type": "markdown",
   "metadata": {},
   "source": [
    "## Index\n",
    "---\n",
    "\n",
    "- <a href='#1'><ins>1. Loading of Libraries and Data<ins></a>\n",
    "- <a href='#2'><ins>2. Transform data to introduce it in RRNN<ins></a>\n",
    "- <a href='#3'><ins>3. Custom loss function<ins> </a>\n",
    "- <a href='#4'><ins>4. Save data<ins> </a>"
   ]
  },
  {
   "cell_type": "markdown",
   "metadata": {},
   "source": [
    "### <a id='1'>1. Loading of Libraries and Data</a>\n",
    "---"
   ]
  },
  {
   "cell_type": "code",
   "execution_count": 1,
   "metadata": {},
   "outputs": [],
   "source": [
    "import tensorflow as tf\n",
    "from tensorflow import keras\n",
    "from sklearn.preprocessing import StandardScaler\n",
    "from sklearn.metrics import r2_score, mean_absolute_error, mean_squared_error\n",
    "import pandas as pd\n",
    "import pickle\n",
    "import numpy as np\n",
    "import matplotlib.pyplot as plt\n",
    "from sklearn.model_selection import train_test_split\n",
    "from keras import backend as K\n",
    "from itertools import chain\n",
    "\n",
    "import warnings\n",
    "warnings.filterwarnings('ignore')"
   ]
  },
  {
   "cell_type": "markdown",
   "metadata": {},
   "source": [
    "Plotting functions"
   ]
  },
  {
   "cell_type": "code",
   "execution_count": 2,
   "metadata": {},
   "outputs": [],
   "source": [
    "def plotting_epochs(loss, val_loss):\n",
    "    plt.figure(figsize = (26, 5))\n",
    "    plt.plot(loss, color = 'darkblue', linewidth = 2, label = 'Train');\n",
    "    plt.plot(val_loss, color = 'darkred', linewidth = 2, label = 'Validation');\n",
    "    plt.title('Train vs Validation epochs', fontsize = 20), plt.xlabel('Epochs', fontsize = 15), plt.ylabel('Loss', fontsize = 15);\n",
    "    plt.xlabel('Epochs'), plt.ylabel('Loss'); plt.legend(), plt.grid(linestyle='--',linewidth=1.5);\n",
    "    plt.show();"
   ]
  },
  {
   "cell_type": "markdown",
   "metadata": {},
   "source": [
    "Main variables"
   ]
  },
  {
   "cell_type": "code",
   "execution_count": 3,
   "metadata": {},
   "outputs": [],
   "source": [
    "path_origin, path_processed = \"../data/original_data/\", \"../data/processed_data/\"\n",
    "models_path = \"../data/processed_data/models/\"\n",
    "palette = ['#264653','#2A9D8F','#85CAC2','#DFF6F4' ,'#E9C46A','#F4A261','#E76F51','#C53D1B', '#7E2711']\n",
    "cells = [f'\\Cell{x}\\*' for x in range(1, 9)]\n",
    "font = {'size': 16, 'color': 'black', 'weight': 'bold'}"
   ]
  },
  {
   "cell_type": "markdown",
   "metadata": {},
   "source": [
    "Processed dataset      \n",
    "We process the data, changing the type to float and removing the negatives"
   ]
  },
  {
   "cell_type": "code",
   "execution_count": 4,
   "metadata": {},
   "outputs": [
    {
     "name": "stdout",
     "output_type": "stream",
     "text": [
      "(390, 41)\n"
     ]
    }
   ],
   "source": [
    "df_desc_final_pickle_load = pd.read_pickle(path_processed + 'df_desc_final.pkl')\n",
    "df_desc_final_pickle = df_desc_final_pickle_load[df_desc_final_pickle_load.RUL >= 0 ]\n",
    "df_desc_final_pickle[\"RUL\"] = df_desc_final_pickle[\"RUL\"].astype(float)\n",
    "df_desc_final_pickle_not_index = df_desc_final_pickle.reset_index(col_level=0)\n",
    "print(df_desc_final_pickle.shape)"
   ]
  },
  {
   "cell_type": "markdown",
   "metadata": {},
   "source": [
    "### <a id='2'>2. Transform data to introduce it in RRNN</a>\n",
    "---"
   ]
  },
  {
   "cell_type": "code",
   "execution_count": 5,
   "metadata": {},
   "outputs": [],
   "source": [
    "def x_and_y(df_desc_final_pickle, num_steps = 10, index = False):\n",
    "    x, y, quantiles_final, new_values = [], [], [], []\n",
    "\n",
    "    for i in range(1, 9):\n",
    "        if index:\n",
    "            batery_df = df_desc_final_pickle[df_desc_final_pickle.cell == i]\n",
    "            quantiles = []\n",
    "            for j in range(1, len(batery_df) - num_steps):\n",
    "                x.append(np.array(batery_df.iloc[slice(j,num_steps+j), 1:].drop(columns=['RUL']).values))\n",
    "                y.append(np.array([batery_df.iloc[slice(j,num_steps+j), 1:].RUL.values[-1], i]))\n",
    "                quantiles.append(i)\n",
    "        else:\n",
    "            batery_df = df_desc_final_pickle[df_desc_final_pickle.index.get_level_values(0) == i]\n",
    "            batery_df.index = pd.MultiIndex.from_tuples([(1, x) for x in range(1, batery_df.shape[0] + 1)])\n",
    "            quantiles = []\n",
    "            for j in range(1, len(batery_df) - num_steps):\n",
    "\n",
    "                x.append(np.array(batery_df.loc[(1, slice(j,num_steps+j)), :].drop(columns=['RUL']).values))\n",
    "                y.append(np.array([batery_df.loc[(1, slice(j,num_steps+j)), :].RUL.values[-1], i]))\n",
    "                quantiles.append(i)\n",
    "\n",
    "        quantiles_final.append(np.array_split(range(len(quantiles)), 4))\n",
    "            \n",
    "    x, y = np.array(x), np.array(y)\n",
    "\n",
    "    for j in np.unique(y[:,1]):\n",
    "        batery_column = y[:,1][y[:,1] == j]\n",
    "        new_values.append([i+1 for i in range(4) for x in batery_column[quantiles_final[int(j-1)][i]].tolist()])\n",
    "    y = np.append(y, np.array(list(chain(*new_values))).reshape(-1,1), axis = 1)\n",
    "    y[:,0] = y[:,0].astype(float)\n",
    "    print(x.shape, y.shape)\n",
    "    return x, y"
   ]
  },
  {
   "cell_type": "code",
   "execution_count": 6,
   "metadata": {},
   "outputs": [
    {
     "name": "stdout",
     "output_type": "stream",
     "text": [
      "(302, 11, 40) (302, 3)\n"
     ]
    }
   ],
   "source": [
    "x, y = x_and_y(df_desc_final_pickle, num_steps = 10, index = False)\n",
    "# x, y = x_and_y(df_desc_final_pickle_not_index, num_steps = 10, index = True)"
   ]
  },
  {
   "cell_type": "markdown",
   "metadata": {},
   "source": [
    "We split the data into train and test sets, and then we scale the data."
   ]
  },
  {
   "cell_type": "code",
   "execution_count": 7,
   "metadata": {},
   "outputs": [],
   "source": [
    "# X_train,X_test,y_train_mod,y_test_mod = train_test_split(x, y,test_size=0.2, random_state=42, stratify=y[:,[1]])\n",
    "X_train,X_test,y_train_mod,y_test_mod = train_test_split(x, y,test_size=0.2, random_state=42, stratify=y[:,[1,2]])\n",
    "\n",
    "y_train, y_test = y_train_mod[:,0].reshape(-1,1), y_test_mod[:,0].reshape(-1,1)\n",
    "\n",
    "# X_train,X_test,y_train,y_test = train_test_split(x, y,test_size=0.2, random_state=42)\n",
    "\n",
    "X_train = np.stack(X_train, axis = 0)\n",
    "y_train = np.stack(y_train, axis = 0)\n",
    "\n",
    "X_test = np.stack(X_test, axis = 0)\n",
    "y_test = np.stack(y_test, axis = 0)\n",
    "\n",
    "scaler = StandardScaler()\n",
    "X_train = scaler.fit_transform(X_train.reshape(-1, X_train.shape[-1])).reshape(X_train.shape)\n",
    "X_test = scaler.transform(X_test.reshape(-1, X_test.shape[-1])).reshape(X_test.shape)"
   ]
  },
  {
   "cell_type": "markdown",
   "metadata": {},
   "source": [
    "### <a id='3'>3. Custom loss function</a>\n",
    "---"
   ]
  },
  {
   "cell_type": "markdown",
   "metadata": {},
   "source": [
    "A loss function is created in order to penalisize the model when the prediction is greater than the real value."
   ]
  },
  {
   "cell_type": "code",
   "execution_count": 8,
   "metadata": {},
   "outputs": [],
   "source": [
    "def customLoss(true,pred):\n",
    "    diff = pred - true\n",
    "    greater = K.greater(diff,0)\n",
    "    greater = K.cast(greater, K.floatx()) \n",
    "    greater = greater + 1                \n",
    "    return K.mean(K.square(diff))*greater\n",
    "\n",
    "def customLoss_numpy(true,pred):\n",
    "    diff = pred - true\n",
    "    greater = np.max(diff)\n",
    "    greater = greater + 1     \n",
    "    return np.mean(greater*(diff**2))"
   ]
  },
  {
   "cell_type": "markdown",
   "metadata": {},
   "source": [
    "We apply the created function to small numbers to see the difference between the classic rmse and the customed one."
   ]
  },
  {
   "cell_type": "code",
   "execution_count": 9,
   "metadata": {},
   "outputs": [],
   "source": [
    "float_numbers = [x/100 for x in range(1,301)]\n",
    "lista_mse, lista_mse_2 = [], []\n",
    "for i in float_numbers:\n",
    "    lista_mse.append(mean_squared_error([0], [i]))\n",
    "    lista_mse_2.append(customLoss_numpy(np.array([0]),np.array([i])))  "
   ]
  },
  {
   "cell_type": "markdown",
   "metadata": {},
   "source": [
    "We can see that out function is working as expected, penalizing more the errors when the true value is higher than the predicted value."
   ]
  },
  {
   "cell_type": "code",
   "execution_count": 10,
   "metadata": {},
   "outputs": [
    {
     "data": {
      "image/png": "[encoded data removed]",
      "text/plain": [
       "<Figure size 640x480 with 1 Axes>"
      ]
     },
     "metadata": {},
     "output_type": "display_data"
    }
   ],
   "source": [
    "plt.plot(float_numbers, lista_mse_2, label='MSE penalty', color=palette[0], linewidth=3)\n",
    "plt.plot(-np.array(float_numbers), lista_mse, label='MSE', color=palette[1], linewidth=3)\n",
    "plt.legend(), plt.xticks(fontsize=16), plt.yticks(fontsize=16), plt.grid(linestyle='--',linewidth=1.5, alpha = 0.5);\n",
    "plt.xlabel('Error', fontsize=16), plt.ylabel('Loss', fontsize=16), plt.title('Loss function', fontsize=16, fontweight='bold');\n",
    "plt.axvline(x=0, color='black', linewidth=2, alpha = 0.7);"
   ]
  },
  {
   "cell_type": "markdown",
   "metadata": {},
   "source": [
    "### Models\n",
    "---"
   ]
  },
  {
   "cell_type": "markdown",
   "metadata": {},
   "source": [
    "#### **LSTM**\n"
   ]
  },
  {
   "cell_type": "code",
   "execution_count": 11,
   "metadata": {},
   "outputs": [],
   "source": [
    "np.random.seed(26), tf.random.set_seed(26)\n",
    "early_stopping = keras.callbacks.EarlyStopping(patience=5000, restore_best_weights=True)\n",
    "checkpoint_first_model_LSTM = keras.callbacks.ModelCheckpoint(models_path +'first_model_LSTM.h5', verbose=0, save_best_only=True)\n",
    "\n",
    "model = keras.Sequential([\n",
    "    keras.layers.LSTM(128, input_shape=(X_train.shape[1], X_train.shape[2]), return_sequences=True),\n",
    "    keras.layers.LSTM(64),\n",
    "    keras.layers.Dense(1)\n",
    "])\n",
    "optimizer = keras.optimizers.Adam(learning_rate=0.0001)\n",
    "model.compile(loss=customLoss, optimizer=optimizer, metrics=['mae'])\n",
    "history = model.fit(X_train, y_train, epochs=20000, batch_size=16, validation_split=0.2, verbose=0, shuffle=False, callbacks=[checkpoint_first_model_LSTM, early_stopping])"
   ]
  },
  {
   "cell_type": "markdown",
   "metadata": {},
   "source": [
    "#### **GRU**  "
   ]
  },
  {
   "cell_type": "code",
   "execution_count": null,
   "metadata": {},
   "outputs": [],
   "source": [
    "np.random.seed(26), tf.random.set_seed(26)\n",
    "early_stopping = keras.callbacks.EarlyStopping(patience=10000, restore_best_weights=True, monitor='val_loss')\n",
    "first_model_GRU_without_neg = keras.callbacks.ModelCheckpoint(models_path +'first_model_GRU.h5', verbose=0, save_best_only=True)\n",
    "\n",
    "model2 = keras.Sequential([\n",
    "    keras.layers.GRU(624, input_shape=(X_train.shape[1], X_train.shape[2]), return_sequences=True),\n",
    "    keras.layers.GRU(416),\n",
    "    keras.layers.Dense(1, activation='relu')\n",
    "])\n",
    "\n",
    "optimizer = keras.optimizers.Adam(learning_rate=0.0001)\n",
    "model2.compile(loss=customLoss, optimizer='adam', metrics=['mae'])\n",
    "historyW = model2.fit(X_train, y_train, epochs=50000, batch_size=32, validation_split=0.2, verbose=0, shuffle=False, callbacks=[first_model_GRU_without_neg, early_stopping])"
   ]
  },
  {
   "cell_type": "markdown",
   "metadata": {},
   "source": [
    "#### **Bidirectional LSTM**"
   ]
  },
  {
   "cell_type": "code",
   "execution_count": 12,
   "metadata": {},
   "outputs": [],
   "source": [
    "np.random.seed(26), tf.random.set_seed(26);\n",
    "early_stopping = keras.callbacks.EarlyStopping(patience=5000, restore_best_weights=True)\n",
    "checkpoint_first_model_Bi_LSTM = keras.callbacks.ModelCheckpoint(models_path + 'first_model_Bidirectional_LSTM_good_adapted.h5', verbose = 0, save_best_only=True)\n",
    "\n",
    "model_lstm_bidirectional = keras.Sequential()\n",
    "forward_layer = keras.layers.LSTM(624, activation = keras.layers.LeakyReLU(alpha=0.3), recurrent_dropout = 0.05)\n",
    "backward_layer = keras.layers.LSTM(416, activation = tf.keras.layers.PReLU('zeros'), recurrent_dropout = 0.05, go_backwards = True)\n",
    "model_lstm_bidirectional.add(keras.layers.Bidirectional(forward_layer, backward_layer=backward_layer, input_shape=(X_train.shape[1], X_train.shape[2]) ))\n",
    "model_lstm_bidirectional.add(keras.layers.Dense(1, activation='relu'))\n",
    "\n",
    "optimizer = keras.optimizers.Adam(learning_rate=0.0001)\n",
    "model_lstm_bidirectional.compile(loss=customLoss, optimizer= optimizer, metrics=['mae'])\n",
    "historyBiLSTM = model_lstm_bidirectional.fit(X_train, y_train, epochs=20000, batch_size=16, validation_split=0.2, verbose=0, shuffle=False, callbacks=[checkpoint_first_model_Bi_LSTM, early_stopping])"
   ]
  },
  {
   "cell_type": "code",
   "execution_count": 13,
   "metadata": {},
   "outputs": [
    {
     "data": {
      "text/plain": [
       "(727, 5728)"
      ]
     },
     "execution_count": 13,
     "metadata": {},
     "output_type": "execute_result"
    }
   ],
   "source": [
    "np.argmin(historyBiLSTM.history['val_loss']), len(historyBiLSTM.history['val_loss'])"
   ]
  },
  {
   "cell_type": "markdown",
   "metadata": {},
   "source": [
    "#### **Bidirectional GRU**"
   ]
  },
  {
   "cell_type": "code",
   "execution_count": null,
   "metadata": {},
   "outputs": [],
   "source": [
    "np.random.seed(26), tf.random.set_seed(26);\n",
    "early_stopping = keras.callbacks.EarlyStopping(patience=25000, restore_best_weights=True)\n",
    "checkpoint_first_model_Bi_LSTM = keras.callbacks.ModelCheckpoint(models_path +'first_model_Bidirectional_GRU.h5', verbose = 0, save_best_only=True)\n",
    "\n",
    "model_lstm_bidirectional = keras.Sequential()\n",
    "forward_layer = keras.layers.GRU(256)\n",
    "backward_layer = keras.layers.GRU(256, go_backwards = True)\n",
    "model_lstm_bidirectional.add(keras.layers.Bidirectional(forward_layer, backward_layer=backward_layer, input_shape=(X_train.shape[1], X_train.shape[2]) ))\n",
    "model_lstm_bidirectional.add(keras.layers.Dense(1, activation='relu'))\n",
    "\n",
    "optimizer = keras.optimizers.Adam(learning_rate=0.001)\n",
    "model_lstm_bidirectional.compile(loss=customLoss, optimizer= optimizer, metrics=['mae'])\n",
    "historyBiLSTM = model_lstm_bidirectional.fit(X_train, y_train, epochs=50000, batch_size=32, validation_split=0.2, verbose=0, shuffle=False, callbacks=[checkpoint_first_model_Bi_LSTM, early_stopping])"
   ]
  }
 ],
 "metadata": {
  "kernelspec": {
   "display_name": "Python 3.9.13 ('reto12')",
   "language": "python",
   "name": "python3"
  },
  "language_info": {
   "codemirror_mode": {
    "name": "ipython",
    "version": 3
   },
   "file_extension": ".py",
   "mimetype": "text/x-python",
   "name": "python",
   "nbconvert_exporter": "python",
   "pygments_lexer": "ipython3",
   "version": "3.9.13"
  },
  "orig_nbformat": 4,
  "vscode": {
   "interpreter": {
    "hash": "4f16b7001b204c41f920b02e28f3ff8f9b0ca8507f82933210dd898ae15876d4"
   }
  }
 },
 "nbformat": 4,
 "nbformat_minor": 2
}
