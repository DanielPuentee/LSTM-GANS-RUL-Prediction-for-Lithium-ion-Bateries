{
 "cells": [
  {
   "cell_type": "markdown",
   "metadata": {},
   "source": [
    "## Index\n",
    "---\n",
    "\n",
    "- <a href='#1'>1. Loading of Libraries and Data</a>\n",
    "\n",
    "- <a href='#2'>2. EDA</a>\n",
    "\n",
    "- <a href='#3'>3. Generation of features per cell and cycle </a>"
   ]
  },
  {
   "cell_type": "markdown",
   "metadata": {},
   "source": [
    "## <a id='1'>1. Loading of Libraries and Data</a>\n",
    "---"
   ]
  },
  {
   "cell_type": "code",
   "execution_count": 1,
   "metadata": {},
   "outputs": [],
   "source": [
    "import pandas as pd\n",
    "import os\n",
    "import matplotlib.pyplot as plt\n",
    "from scipy.stats import skew, kurtosis\n",
    "\n",
    "import warnings\n",
    "warnings.filterwarnings('ignore')"
   ]
  },
  {
   "cell_type": "code",
   "execution_count": 2,
   "metadata": {},
   "outputs": [],
   "source": [
    "path_origin = '../01_data/Datos_baterias_csv'"
   ]
  },
  {
   "cell_type": "markdown",
   "metadata": {},
   "source": [
    "Creation of **SoH** and **SoC** in the original data for later use."
   ]
  },
  {
   "cell_type": "code",
   "execution_count": 3,
   "metadata": {},
   "outputs": [],
   "source": [
    "elements  = os.listdir(path_origin)\n",
    "for r in elements:\n",
    "    \n",
    "    path = path_origin + f'/{r}'\n",
    "    dirs = sorted(os.listdir(path), key=lambda x: float(x[3:]))\n",
    "    \n",
    "    for i in dirs:\n",
    "        path2 = path+'/'+i\n",
    "        archives = [archive for archive in os.listdir(path2) if 'V' not in archive]\n",
    "        cyc_discharge = pd.read_csv(path2 + f'/{archives[0]}')\n",
    "        cyc_charge = pd.read_csv(path2 + f'/{archives[1]}')\n",
    "        if i == 'cyc0': \n",
    "            initial_capacity = cyc_discharge.q.values[-1]\n",
    "\n",
    "        SoH = (cyc_discharge.q.values[-1]/initial_capacity)*100\n",
    "        cyc_discharge['SoH'], cyc_charge['SoH'] = SoH, SoH\n",
    "        cyc_discharge['SoC'], cyc_charge['SoC'] = (cyc_discharge.q/cyc_discharge.q.values[-1])*100, (cyc_charge.q/cyc_charge.q.values[-1])*100\n",
    "\n",
    "        cyc_discharge.to_csv(path_or_buf=path2+f'/{archives[0]}',index= False)\n",
    "        cyc_charge.to_csv(path_or_buf=path2+f'/{archives[1]}',index= False)"
   ]
  },
  {
   "cell_type": "markdown",
   "metadata": {},
   "source": [
    "## <a id='2'>2. EDA</a>\n",
    "---"
   ]
  },
  {
   "cell_type": "code",
   "execution_count": 4,
   "metadata": {},
   "outputs": [],
   "source": [
    "cyc0ch = pd.read_csv(path_origin+'/Cell1/cyc0/cyc0000_C1ch.csv')\n",
    "cyc0dc = pd.read_csv(path_origin+'/Cell1/cyc0/cyc0000_C1dc.csv')\n",
    "cyc8200ch = pd.read_csv(path_origin+'/Cell1/cyc8200/cyc8200_C1ch.csv')\n",
    "cyc8200dc = pd.read_csv(path_origin+'/Cell1/cyc8200/cyc8200_C1dc.csv')"
   ]
  },
  {
   "cell_type": "code",
   "execution_count": 5,
   "metadata": {},
   "outputs": [
    {
     "data": {
      "text/html": [
       "<div>\n",
       "<style scoped>\n",
       "    .dataframe tbody tr th:only-of-type {\n",
       "        vertical-align: middle;\n",
       "    }\n",
       "\n",
       "    .dataframe tbody tr th {\n",
       "        vertical-align: top;\n",
       "    }\n",
       "\n",
       "    .dataframe thead th {\n",
       "        text-align: right;\n",
       "    }\n",
       "</style>\n",
       "<table border=\"1\" class=\"dataframe\">\n",
       "  <thead>\n",
       "    <tr style=\"text-align: right;\">\n",
       "      <th></th>\n",
       "      <th>t</th>\n",
       "      <th>v</th>\n",
       "      <th>q</th>\n",
       "      <th>T</th>\n",
       "      <th>SoH</th>\n",
       "      <th>SoC</th>\n",
       "    </tr>\n",
       "  </thead>\n",
       "  <tbody>\n",
       "    <tr>\n",
       "      <th>0</th>\n",
       "      <td>735954.858966</td>\n",
       "      <td>2.719213</td>\n",
       "      <td>-0.000049</td>\n",
       "      <td>41.295536</td>\n",
       "      <td>100.0</td>\n",
       "      <td>-0.000007</td>\n",
       "    </tr>\n",
       "    <tr>\n",
       "      <th>1</th>\n",
       "      <td>735954.858977</td>\n",
       "      <td>2.856135</td>\n",
       "      <td>0.206339</td>\n",
       "      <td>41.000046</td>\n",
       "      <td>100.0</td>\n",
       "      <td>0.028495</td>\n",
       "    </tr>\n",
       "    <tr>\n",
       "      <th>2</th>\n",
       "      <td>735954.858989</td>\n",
       "      <td>2.877108</td>\n",
       "      <td>0.412724</td>\n",
       "      <td>40.962608</td>\n",
       "      <td>100.0</td>\n",
       "      <td>0.056997</td>\n",
       "    </tr>\n",
       "    <tr>\n",
       "      <th>3</th>\n",
       "      <td>735954.859000</td>\n",
       "      <td>2.892908</td>\n",
       "      <td>0.619110</td>\n",
       "      <td>40.987579</td>\n",
       "      <td>100.0</td>\n",
       "      <td>0.085498</td>\n",
       "    </tr>\n",
       "    <tr>\n",
       "      <th>4</th>\n",
       "      <td>735954.859012</td>\n",
       "      <td>2.906382</td>\n",
       "      <td>0.825497</td>\n",
       "      <td>41.049992</td>\n",
       "      <td>100.0</td>\n",
       "      <td>0.114000</td>\n",
       "    </tr>\n",
       "  </tbody>\n",
       "</table>\n",
       "</div>"
      ],
      "text/plain": [
       "               t         v         q          T    SoH       SoC\n",
       "0  735954.858966  2.719213 -0.000049  41.295536  100.0 -0.000007\n",
       "1  735954.858977  2.856135  0.206339  41.000046  100.0  0.028495\n",
       "2  735954.858989  2.877108  0.412724  40.962608  100.0  0.056997\n",
       "3  735954.859000  2.892908  0.619110  40.987579  100.0  0.085498\n",
       "4  735954.859012  2.906382  0.825497  41.049992  100.0  0.114000"
      ]
     },
     "execution_count": 5,
     "metadata": {},
     "output_type": "execute_result"
    }
   ],
   "source": [
    "cyc0ch.head()"
   ]
  },
  {
   "cell_type": "code",
   "execution_count": 6,
   "metadata": {},
   "outputs": [
    {
     "data": {
      "text/plain": [
       "Text(0.5, 1.0, 'Charge and discharge curves in cicle 0 vs cicle 8200')"
      ]
     },
     "execution_count": 6,
     "metadata": {},
     "output_type": "execute_result"
    },
    {
     "data": {
      "image/png": "[encoded data removed]",
      "text/plain": [
       "<Figure size 1000x500 with 1 Axes>"
      ]
     },
     "metadata": {},
     "output_type": "display_data"
    }
   ],
   "source": [
    "plt.figure(figsize=(10, 5))\n",
    "plt.plot(cyc0ch.q, cyc0ch.v, label='Charge cyc0')\n",
    "plt.plot(cyc0dc.q, cyc0dc.v, label='Discharge cyc0')\n",
    "plt.plot(cyc8200ch.q, cyc8200ch.v, label='Charge cyc8200')\n",
    "plt.plot(cyc8200dc.q, cyc8200dc.v, label='Discharge cyc8200')\n",
    "plt.xlabel('Capacity (mAh)')\n",
    "plt.ylabel('Voltage (v)')\n",
    "plt.legend()\n",
    "plt.title('Charge and discharge curves in cicle 0 vs cicle 8200')"
   ]
  },
  {
   "cell_type": "code",
   "execution_count": 7,
   "metadata": {},
   "outputs": [
    {
     "name": "stdout",
     "output_type": "stream",
     "text": [
      "The time of charge in cicle 0 is 0.04060957604087889 seconds.\n",
      "The time of discharge in cicle 0 is 0.04173993202857673 seconds.\n",
      "The time of charge in cicle 8200 is 0.029845685930922627 seconds.\n",
      "The time of discharge in cicle 8200 is 0.03159782406874001 seconds.\n"
     ]
    }
   ],
   "source": [
    "print(f'The time of charge in cicle 0 is {cyc0ch.t.values[-1]-cyc0ch.t.values[0]} seconds.')\n",
    "print(f'The time of discharge in cicle 0 is {cyc0dc.t.values[-1]-cyc0dc.t.values[0]} seconds.')\n",
    "print(f'The time of charge in cicle 8200 is {cyc8200ch.t.values[-1]-cyc8200ch.t.values[0]} seconds.')\n",
    "print(f'The time of discharge in cicle 8200 is {cyc8200dc.t.values[-1]-cyc8200dc.t.values[0]} seconds.')"
   ]
  },
  {
   "cell_type": "code",
   "execution_count": 8,
   "metadata": {},
   "outputs": [
    {
     "data": {
      "text/plain": [
       "Text(0.5, 1.0, 'Relation between time and SoC')"
      ]
     },
     "execution_count": 8,
     "metadata": {},
     "output_type": "execute_result"
    },
    {
     "data": {
      "image/png": "[encoded data removed]",
      "text/plain": [
       "<Figure size 640x480 with 1 Axes>"
      ]
     },
     "metadata": {},
     "output_type": "display_data"
    }
   ],
   "source": [
    "plt.plot(cyc0ch.t, cyc0ch.SoC, label='Charge cyc0')\n",
    "plt.plot(cyc0dc.t, cyc0dc.SoC, label='Discharge cyc0')\n",
    "plt.xlabel('Time (s)')\n",
    "plt.ylabel('SoC (%)')\n",
    "plt.legend()\n",
    "plt.title('Relation between time and SoC')"
   ]
  },
  {
   "cell_type": "markdown",
   "metadata": {},
   "source": [
    "# por qué son distintos los valores en carga y descarga en capacidad? HEMOS CREADO EL SOH CON DISCHARGE"
   ]
  },
  {
   "cell_type": "code",
   "execution_count": 9,
   "metadata": {},
   "outputs": [
    {
     "name": "stdout",
     "output_type": "stream",
     "text": [
      "724.120891409319 -739.110921062178\n"
     ]
    }
   ],
   "source": [
    "print(cyc0ch.q.values[-1], cyc0dc.q.values[-1])"
   ]
  },
  {
   "cell_type": "markdown",
   "metadata": {},
   "source": [
    "## <a id='3'>3. Generation of features per cell and cycle</a>\n",
    "---"
   ]
  },
  {
   "cell_type": "code",
   "execution_count": 11,
   "metadata": {},
   "outputs": [],
   "source": [
    "df_full = pd.DataFrame(columns=['cell','cycle','type','t','v','q','T','SoH'])\n",
    "\n",
    "for r in elements:\n",
    "    \n",
    "    path = path_origin + f'/{r}'\n",
    "    dirs = sorted(os.listdir(path), key=lambda x: float(x[3:]))\n",
    "    \n",
    "    for i in dirs:\n",
    "        df_partial = pd.DataFrame(columns=['cell','cycle','type','t','v','q','T','SoH'])\n",
    "        path2 = path+'/'+i\n",
    "        archives = [archive for archive in os.listdir(path2) if 'V' not in archive]\n",
    "        cyc_discharge = pd.read_csv(path2 + f'/{archives[0]}')\n",
    "        cyc_charge = pd.read_csv(path2 + f'/{archives[1]}')\n",
    "        types, types_str = [cyc_discharge,cyc_charge], ['dc','ch']\n",
    "        \n",
    "        for j in range(len(types)):\n",
    "            df_partial['t'], df_partial['v'], df_partial['q'], df_partial['T'], df_partial['SoH'] = types[j]['t'], types[j]['v'], types[j]['q'], types[j]['T'], types[j]['SoH']\n",
    "            df_partial['cell'], df_partial['cycle'], df_partial['type'] = r[4:], i[3:], types_str[j]\n",
    "            df_full = df_full.append(df_partial, ignore_index=True)"
   ]
  },
  {
   "cell_type": "markdown",
   "metadata": {},
   "source": [
    "Extract **characteristics** per cell, cycle and type:"
   ]
  },
  {
   "cell_type": "code",
   "execution_count": 12,
   "metadata": {},
   "outputs": [],
   "source": [
    "df_desc = pd.pivot_table(df_full, values=['t','v','q','T','SoH'], index=['cell','cycle','type'], aggfunc={'t':['max','min'], 'v':['max','min','mean','std', skew, kurtosis],\n",
    "                                                               'q':['max','min','mean','std', skew, kurtosis],'T':['max','min','mean','std', skew, kurtosis],'SoH':'max'})\n",
    "\n",
    "df_desc.columns = [i[0]+'_'+i[1] for i in df_desc.columns]\n",
    "df_desc['t_total'] = df_desc['t_max'] - df_desc['t_min']\n",
    "df_desc.drop(columns=['t_max','t_min'], inplace=True)"
   ]
  },
  {
   "cell_type": "markdown",
   "metadata": {},
   "source": [
    "**Combine** charge and discharge features into one row per cell and cycle."
   ]
  },
  {
   "cell_type": "code",
   "execution_count": 13,
   "metadata": {},
   "outputs": [],
   "source": [
    "df_desc_final = pd.DataFrame(columns = ['cell','cycle'] + [col + '_ch' for col in list(df_desc.columns)] + [col + '_dc' for col in list(df_desc.columns)])\n",
    "for ind in range(len(df_desc.index)):\n",
    "    if ind % 2 == 0:\n",
    "        values = list(df_desc.loc[df_desc.index[ind],:]) + list(df_desc.loc[df_desc.index[ind+1],:])\n",
    "        df_desc_final.loc[ind//2,:] = [df_desc.index[ind][0],df_desc.index[ind][1]] + values"
   ]
  },
  {
   "cell_type": "code",
   "execution_count": 14,
   "metadata": {},
   "outputs": [],
   "source": [
    "df_desc_final = df_desc_final.apply(pd.to_numeric, errors='coerce')\n",
    "df_desc_final.sort_values(by=['cell','cycle'], inplace=True)\n",
    "df_desc_final.set_index(['cell','cycle'], inplace=True)"
   ]
  },
  {
   "cell_type": "code",
   "execution_count": 15,
   "metadata": {},
   "outputs": [],
   "source": [
    "eol = dict()\n",
    "for bateria in df_desc_final.index.get_level_values(0).unique().tolist():\n",
    "    df_part = df_desc_final.loc[bateria,:]\n",
    "    for ciclo in range(len(df_part)):\n",
    "        if df_part.iloc[ciclo, 0] < 80:\n",
    "            eol[bateria] = ciclo*100\n",
    "            break\n",
    "\n",
    "\n",
    "\n",
    "df_desc_final['RUL'] = df_desc_final.index.get_level_values(0).astype(int).map(eol)\n",
    "df_desc_final['RUL'] = df_desc_final['RUL'] - df_desc_final.index.get_level_values(1).astype(int)"
   ]
  },
  {
   "cell_type": "code",
   "execution_count": 16,
   "metadata": {},
   "outputs": [
    {
     "data": {
      "text/html": [
       "<div>\n",
       "<style scoped>\n",
       "    .dataframe tbody tr th:only-of-type {\n",
       "        vertical-align: middle;\n",
       "    }\n",
       "\n",
       "    .dataframe tbody tr th {\n",
       "        vertical-align: top;\n",
       "    }\n",
       "\n",
       "    .dataframe thead th {\n",
       "        text-align: right;\n",
       "    }\n",
       "</style>\n",
       "<table border=\"1\" class=\"dataframe\">\n",
       "  <thead>\n",
       "    <tr style=\"text-align: right;\">\n",
       "      <th></th>\n",
       "      <th></th>\n",
       "      <th>SoH_max_ch</th>\n",
       "      <th>T_kurtosis_ch</th>\n",
       "      <th>T_max_ch</th>\n",
       "      <th>T_mean_ch</th>\n",
       "      <th>T_min_ch</th>\n",
       "      <th>T_skew_ch</th>\n",
       "      <th>T_std_ch</th>\n",
       "      <th>q_kurtosis_ch</th>\n",
       "      <th>q_max_ch</th>\n",
       "      <th>q_mean_ch</th>\n",
       "      <th>...</th>\n",
       "      <th>q_skew_dc</th>\n",
       "      <th>q_std_dc</th>\n",
       "      <th>v_kurtosis_dc</th>\n",
       "      <th>v_max_dc</th>\n",
       "      <th>v_mean_dc</th>\n",
       "      <th>v_min_dc</th>\n",
       "      <th>v_skew_dc</th>\n",
       "      <th>v_std_dc</th>\n",
       "      <th>t_total_dc</th>\n",
       "      <th>RUL</th>\n",
       "    </tr>\n",
       "    <tr>\n",
       "      <th>cell</th>\n",
       "      <th>cycle</th>\n",
       "      <th></th>\n",
       "      <th></th>\n",
       "      <th></th>\n",
       "      <th></th>\n",
       "      <th></th>\n",
       "      <th></th>\n",
       "      <th></th>\n",
       "      <th></th>\n",
       "      <th></th>\n",
       "      <th></th>\n",
       "      <th></th>\n",
       "      <th></th>\n",
       "      <th></th>\n",
       "      <th></th>\n",
       "      <th></th>\n",
       "      <th></th>\n",
       "      <th></th>\n",
       "      <th></th>\n",
       "      <th></th>\n",
       "      <th></th>\n",
       "      <th></th>\n",
       "    </tr>\n",
       "  </thead>\n",
       "  <tbody>\n",
       "    <tr>\n",
       "      <th rowspan=\"5\" valign=\"top\">1</th>\n",
       "      <th>0</th>\n",
       "      <td>100.000000</td>\n",
       "      <td>-1.083936</td>\n",
       "      <td>41.174809</td>\n",
       "      <td>40.407376</td>\n",
       "      <td>39.901646</td>\n",
       "      <td>0.528187</td>\n",
       "      <td>0.344139</td>\n",
       "      <td>-1.200000</td>\n",
       "      <td>0.0</td>\n",
       "      <td>-359.585275</td>\n",
       "      <td>...</td>\n",
       "      <td>-0.000008</td>\n",
       "      <td>209.148607</td>\n",
       "      <td>1.668740</td>\n",
       "      <td>4.199977</td>\n",
       "      <td>3.819664</td>\n",
       "      <td>2.719213</td>\n",
       "      <td>-0.969205</td>\n",
       "      <td>0.221073</td>\n",
       "      <td>0.040610</td>\n",
       "      <td>4600</td>\n",
       "    </tr>\n",
       "    <tr>\n",
       "      <th>100</th>\n",
       "      <td>98.676209</td>\n",
       "      <td>-1.188189</td>\n",
       "      <td>41.124866</td>\n",
       "      <td>40.314679</td>\n",
       "      <td>39.801758</td>\n",
       "      <td>0.494053</td>\n",
       "      <td>0.370530</td>\n",
       "      <td>-1.200106</td>\n",
       "      <td>0.0</td>\n",
       "      <td>-354.826094</td>\n",
       "      <td>...</td>\n",
       "      <td>-0.000120</td>\n",
       "      <td>206.407459</td>\n",
       "      <td>1.661299</td>\n",
       "      <td>4.200017</td>\n",
       "      <td>3.821715</td>\n",
       "      <td>2.719614</td>\n",
       "      <td>-0.961001</td>\n",
       "      <td>0.219879</td>\n",
       "      <td>0.040073</td>\n",
       "      <td>4500</td>\n",
       "    </tr>\n",
       "    <tr>\n",
       "      <th>200</th>\n",
       "      <td>98.029812</td>\n",
       "      <td>-1.184674</td>\n",
       "      <td>41.112400</td>\n",
       "      <td>40.315173</td>\n",
       "      <td>39.814266</td>\n",
       "      <td>0.501045</td>\n",
       "      <td>0.362974</td>\n",
       "      <td>-1.200042</td>\n",
       "      <td>0.0</td>\n",
       "      <td>-352.430166</td>\n",
       "      <td>...</td>\n",
       "      <td>-0.000030</td>\n",
       "      <td>205.020342</td>\n",
       "      <td>1.691731</td>\n",
       "      <td>4.199897</td>\n",
       "      <td>3.822391</td>\n",
       "      <td>2.719775</td>\n",
       "      <td>-0.968342</td>\n",
       "      <td>0.219837</td>\n",
       "      <td>0.039813</td>\n",
       "      <td>4400</td>\n",
       "    </tr>\n",
       "    <tr>\n",
       "      <th>300</th>\n",
       "      <td>97.641065</td>\n",
       "      <td>-1.179126</td>\n",
       "      <td>41.124866</td>\n",
       "      <td>40.309946</td>\n",
       "      <td>39.789291</td>\n",
       "      <td>0.524198</td>\n",
       "      <td>0.372747</td>\n",
       "      <td>-1.200020</td>\n",
       "      <td>0.0</td>\n",
       "      <td>-350.954383</td>\n",
       "      <td>...</td>\n",
       "      <td>0.000029</td>\n",
       "      <td>204.241309</td>\n",
       "      <td>1.733821</td>\n",
       "      <td>4.199801</td>\n",
       "      <td>3.822893</td>\n",
       "      <td>2.720641</td>\n",
       "      <td>-0.982355</td>\n",
       "      <td>0.220404</td>\n",
       "      <td>0.039645</td>\n",
       "      <td>4300</td>\n",
       "    </tr>\n",
       "    <tr>\n",
       "      <th>400</th>\n",
       "      <td>96.977493</td>\n",
       "      <td>-1.168146</td>\n",
       "      <td>41.124866</td>\n",
       "      <td>40.302588</td>\n",
       "      <td>39.789291</td>\n",
       "      <td>0.521274</td>\n",
       "      <td>0.371967</td>\n",
       "      <td>-1.200076</td>\n",
       "      <td>0.0</td>\n",
       "      <td>-348.658258</td>\n",
       "      <td>...</td>\n",
       "      <td>-0.000063</td>\n",
       "      <td>202.847183</td>\n",
       "      <td>1.764507</td>\n",
       "      <td>4.199881</td>\n",
       "      <td>3.823835</td>\n",
       "      <td>2.720881</td>\n",
       "      <td>-0.987536</td>\n",
       "      <td>0.219984</td>\n",
       "      <td>0.039380</td>\n",
       "      <td>4200</td>\n",
       "    </tr>\n",
       "  </tbody>\n",
       "</table>\n",
       "<p>5 rows × 41 columns</p>\n",
       "</div>"
      ],
      "text/plain": [
       "            SoH_max_ch  T_kurtosis_ch   T_max_ch  T_mean_ch   T_min_ch  \\\n",
       "cell cycle                                                               \n",
       "1    0      100.000000      -1.083936  41.174809  40.407376  39.901646   \n",
       "     100     98.676209      -1.188189  41.124866  40.314679  39.801758   \n",
       "     200     98.029812      -1.184674  41.112400  40.315173  39.814266   \n",
       "     300     97.641065      -1.179126  41.124866  40.309946  39.789291   \n",
       "     400     96.977493      -1.168146  41.124866  40.302588  39.789291   \n",
       "\n",
       "            T_skew_ch  T_std_ch  q_kurtosis_ch  q_max_ch   q_mean_ch  ...  \\\n",
       "cell cycle                                                            ...   \n",
       "1    0       0.528187  0.344139      -1.200000       0.0 -359.585275  ...   \n",
       "     100     0.494053  0.370530      -1.200106       0.0 -354.826094  ...   \n",
       "     200     0.501045  0.362974      -1.200042       0.0 -352.430166  ...   \n",
       "     300     0.524198  0.372747      -1.200020       0.0 -350.954383  ...   \n",
       "     400     0.521274  0.371967      -1.200076       0.0 -348.658258  ...   \n",
       "\n",
       "            q_skew_dc    q_std_dc  v_kurtosis_dc  v_max_dc  v_mean_dc  \\\n",
       "cell cycle                                                              \n",
       "1    0      -0.000008  209.148607       1.668740  4.199977   3.819664   \n",
       "     100    -0.000120  206.407459       1.661299  4.200017   3.821715   \n",
       "     200    -0.000030  205.020342       1.691731  4.199897   3.822391   \n",
       "     300     0.000029  204.241309       1.733821  4.199801   3.822893   \n",
       "     400    -0.000063  202.847183       1.764507  4.199881   3.823835   \n",
       "\n",
       "            v_min_dc  v_skew_dc  v_std_dc  t_total_dc   RUL  \n",
       "cell cycle                                                   \n",
       "1    0      2.719213  -0.969205  0.221073    0.040610  4600  \n",
       "     100    2.719614  -0.961001  0.219879    0.040073  4500  \n",
       "     200    2.719775  -0.968342  0.219837    0.039813  4400  \n",
       "     300    2.720641  -0.982355  0.220404    0.039645  4300  \n",
       "     400    2.720881  -0.987536  0.219984    0.039380  4200  \n",
       "\n",
       "[5 rows x 41 columns]"
      ]
     },
     "execution_count": 16,
     "metadata": {},
     "output_type": "execute_result"
    }
   ],
   "source": [
    "df_desc_final.head()"
   ]
  }
 ],
 "metadata": {
  "kernelspec": {
   "display_name": "Python ('industria')",
   "language": "python",
   "name": "python3"
  },
  "language_info": {
   "codemirror_mode": {
    "name": "ipython",
    "version": 3
   },
   "file_extension": ".py",
   "mimetype": "text/x-python",
   "name": "python",
   "nbconvert_exporter": "python",
   "pygments_lexer": "ipython3",
   "version": "3.9.5"
  },
  "orig_nbformat": 4,
  "vscode": {
   "interpreter": {
    "hash": "25a19fbe0a9132dfb9279d48d161753c6352f8f9478c2e74383d340069b907c3"
   }
  }
 },
 "nbformat": 4,
 "nbformat_minor": 2
}
